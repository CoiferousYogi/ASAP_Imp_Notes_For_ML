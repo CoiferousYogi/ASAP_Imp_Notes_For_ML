{
 "cells": [
  {
   "cell_type": "markdown",
   "metadata": {},
   "source": [
    "### Support Vector Machine (SVM) for Classification:\n",
    "\n",
    "**Concept:**\n",
    "SVM for classification is a supervised learning algorithm that tries to find the best decision boundary to separate different classes in the feature space. It works by finding the hyperplane that maximizes the margin between the classes.\n",
    "\n",
    "**Example:**\n",
    "Consider a scenario where you have two classes of points: red circles and blue squares, and you want to find a line (or hyperplane in higher dimensions) that best separates them.\n",
    "\n",
    "<img src=\"SVM Classification.jpg\" height=\"250\" width=\"400\">\n",
    "\n",
    "In this example, the solid line represents the decision boundary found by the SVM algorithm. The dashed lines parallel to the decision boundary are the support vectors, which are the closest points from each class to the decision boundary.\n",
    "\n",
    "**Explanation:**\n",
    "- SVM aims to find the hyperplane with the largest margin that separates the classes. The points closest to the decision boundary are called support vectors.\n",
    "- In the case of non-linearly separable data, SVM can use a kernel trick to transform the input space into a higher-dimensional space where the classes are linearly separable."
   ]
  },
  {
   "cell_type": "markdown",
   "metadata": {},
   "source": [
    "### Support Vector Machine (SVM) for Regression:\n",
    "\n",
    "**Concept:**\n",
    "SVM for regression is also a supervised learning algorithm, but instead of finding a decision boundary between classes, it tries to find a function that best fits the data points while maximizing the margin.\n",
    "\n",
    "**Example:**\n",
    "Consider a simple regression problem where you have data points representing the relationship between a person's age and their income. You want to predict the income of a person based on their age.\n",
    "\n",
    "In this example, the solid line represents the regression function found by the SVM algorithm. The dashed lines represent the margin around the regression function.\n",
    "\n",
    "<img src=\"SVM Regression.jpg\" height=\"350\" width=\"500\">\n",
    "\n",
    "**Explanation:**\n",
    "- SVM for regression tries to fit as many data points within a specified margin while minimizing the error (or loss) of points outside the margin.\n",
    "- It uses a loss function called epsilon-insensitive loss, where errors within a certain distance (epsilon) from the predicted value are ignored.\n",
    "- The width of the margin is controlled by a parameter called epsilon."
   ]
  },
  {
   "cell_type": "code",
   "execution_count": null,
   "metadata": {},
   "outputs": [],
   "source": []
  }
 ],
 "metadata": {
  "kernelspec": {
   "display_name": "Python 3",
   "language": "python",
   "name": "python3"
  },
  "language_info": {
   "codemirror_mode": {
    "name": "ipython",
    "version": 3
   },
   "file_extension": ".py",
   "mimetype": "text/x-python",
   "name": "python",
   "nbconvert_exporter": "python",
   "pygments_lexer": "ipython3",
   "version": "3.7.4"
  }
 },
 "nbformat": 4,
 "nbformat_minor": 4
}
